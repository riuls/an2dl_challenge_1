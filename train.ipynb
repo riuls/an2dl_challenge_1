{
 "cells": [
  {
   "cell_type": "code",
   "execution_count": null,
   "metadata": {},
   "outputs": [],
   "source": [
    "from google.colab import drive\n",
    "drive.mount('/gdrive')\n",
    "%cd /gdrive/My Drive/Deep Learning Challenge"
   ]
  },
  {
   "cell_type": "code",
   "execution_count": null,
   "metadata": {},
   "outputs": [],
   "source": [
    "from google.colab import files\n",
    "files.upload()"
   ]
  },
  {
   "cell_type": "code",
   "execution_count": null,
   "metadata": {},
   "outputs": [],
   "source": [
    "from sklearn.preprocessing import LabelEncoder\n",
    "from sklearn.model_selection import train_test_split\n",
    "from data_preparation import load_data, delete_outliers\n",
    "from models import *\n",
    "import numpy as np\n",
    "from visualization import plot_history\n",
    "\n",
    "\n",
    "X, y = load_data()\n",
    "\n",
    "X, y, num_outliers = delete_outliers(X, y)\n",
    "\n",
    "# Split data into train_val and test sets\n",
    "X_train_val, X_test, y_train_val, y_test = train_test_split(X, y, test_size=0.1, stratify=np.argmax(y,axis=1))\n",
    "\n",
    "# Further split train_val into train and validation sets\n",
    "X_train, X_val, y_train, y_val = train_test_split(X_train_val, y_train_val, test_size=0.1, stratify=np.argmax(y_train_val,axis=1))\n",
    "\n",
    "print(X_train.shape)\n",
    "print(X_val.shape)\n",
    "print(X_test.shape)\n",
    "\n",
    "print(np.unique(y_train, return_counts=True))\n",
    "print(np.unique(y_val, return_counts=True))\n",
    "\n",
    "\n",
    "models = []\n",
    "\n",
    "models.append(build_custom_model(X_train.shape[1:], 0.001, tf.keras.Sequential([]), \"Vanilla\"))\n",
    "models.append(build_custom_model(X_train.shape[1:], 0.001, tf.keras.Sequential([\n",
    "            tfkl.RandomRotation(0.4),\n",
    "        ]), \"Rotation Augmentation\"))\n",
    "models.append(build_custom_model(X_train.shape[1:], 0.001, tf.keras.Sequential([\n",
    "            tfkl.RandomZoom(0.2),\n",
    "        ]), \"Zoom Augmentation\"))\n",
    "models.append(build_transfer_model(X_train.shape[1:], 0.001))\n",
    "\n",
    "for model in models:\n",
    "\n",
    "    history = model.fit(\n",
    "        x = X_train,\n",
    "        y = y_train,\n",
    "        batch_size = 32,\n",
    "        epochs = 200,\n",
    "        validation_data = (X_val, y_val),\n",
    "        callbacks = [tfk.callbacks.EarlyStopping(monitor='val_accuracy', mode='max', patience=20, restore_best_weights=True)]\n",
    "    ).history\n",
    "\n",
    "\n",
    "    plot_history(history, model.name)"
   ]
  }
 ],
 "metadata": {
  "language_info": {
   "name": "python"
  }
 },
 "nbformat": 4,
 "nbformat_minor": 2
}
