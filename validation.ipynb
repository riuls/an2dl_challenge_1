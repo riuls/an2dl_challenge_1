{
 "cells": [
  {
   "cell_type": "code",
   "execution_count": null,
   "metadata": {},
   "outputs": [],
   "source": [
    "from google.colab import drive\n",
    "drive.mount('/gdrive')\n",
    "%cd /gdrive/My Drive/Deep Learning Challenge"
   ]
  },
  {
   "cell_type": "code",
   "execution_count": null,
   "metadata": {},
   "outputs": [],
   "source": [
    "from google.colab import files\n",
    "\n",
    "!rm -rf models.py\n",
    "!rm -rf visualization.py\n",
    "!rm -rf data_preparation.py\n",
    "files.upload()"
   ]
  },
  {
   "cell_type": "code",
   "execution_count": null,
   "metadata": {},
   "outputs": [],
   "source": []
  },
  {
   "cell_type": "code",
   "execution_count": null,
   "metadata": {},
   "outputs": [],
   "source": [
    "from sklearn.preprocessing import LabelEncoder\n",
    "from sklearn.model_selection import train_test_split\n",
    "from data_preparation import load_data, delete_outliers\n",
    "import numpy as np\n",
    "from visualization import plot_history\n",
    "\n",
    "\n",
    "X, y = load_data()\n",
    "\n",
    "X, y, num_outliers = delete_outliers(X, y)\n",
    "\n",
    "# Split data into train_val and test sets\n",
    "X_train_val, X_test, y_train_val, y_test = train_test_split(X, y, test_size=0.1, stratify=y)\n",
    "\n",
    "# Further split train_val into train and validation sets\n",
    "X_train, X_val, y_train, y_val = train_test_split(X_train_val, y_train_val, test_size=0.1, stratify=y_train_val)\n",
    "\n",
    "print(X_train.shape)\n",
    "print(X_val.shape)\n",
    "print(X_test.shape)\n",
    "\n",
    "print(np.unique(y_train, return_counts=True))\n",
    "print(np.unique(y_val, return_counts=True))"
   ]
  },
  {
   "cell_type": "code",
   "execution_count": null,
   "metadata": {},
   "outputs": [],
   "source": [
    "import tensorflow as tf\n",
    "from tensorflow import keras as tfk\n",
    "from tensorflow.keras import layers as tfkl\n",
    "from tensorflow.keras.applications.mobilenet import preprocess_input\n",
    "from tensorflow.keras.metrics import Precision, Recall\n",
    "\n",
    "\n",
    "def build_transfer_model(input_shape, name=\"TransferModel\"):\n",
    "    mobile = tfk.applications.MobileNetV2(\n",
    "        input_shape=input_shape,\n",
    "        include_top=False,\n",
    "        weights=\"imagenet\",\n",
    "        pooling='avg',\n",
    "    )\n",
    "    \n",
    "    # Use the supernet as feature extractor, i.e. freeze all its weigths\n",
    "    mobile.trainable = False\n",
    "\n",
    "    # Create an input layer with shape (224, 224, 3)\n",
    "    inputs = tfk.Input(shape=input_shape)\n",
    "\n",
    "    # Connect MobileNetV2 to the input\n",
    "    x = mobile(inputs)\n",
    "\n",
    "    x = tfkl.Dense(256, activation=\"relu\")\n",
    "    \n",
    "    x = tfkl.Dense(64, activation=\"relu\")\n",
    "\n",
    "    # Add a Dense layer with 2 units and softmax activation as the classifier\n",
    "    outputs = tfkl.Dense(1, activation='sigmoid')(x)\n",
    "\n",
    "    # Create a Model connecting input and output\n",
    "    tl_model = tfk.Model(inputs=inputs, outputs=outputs, name=name)\n",
    "\n",
    "    # Compile the model with Categorical Cross-Entropy loss and Adam optimizer\n",
    "    tl_model.compile(loss=tfk.losses.BinaryCrossentropy(), optimizer=tfk.optimizers.Adam(), metrics=['accuracy', Precision(name=\"precision\"), Recall(name=\"recall\")])\n",
    "\n",
    "    return tl_model, mobile\n"
   ]
  },
  {
   "cell_type": "code",
   "execution_count": null,
   "metadata": {},
   "outputs": [],
   "source": [
    "model, base_model = build_transfer_model(X_train.shape[1:])\n",
    "\n",
    "history = model.fit(\n",
    "    x = preprocess_input(X_train * 255),\n",
    "    y = y_train,\n",
    "    batch_size = 32,\n",
    "    epochs = 200,\n",
    "    validation_data = (preprocess_input(X_val * 255), y_val),\n",
    "    callbacks = [tfk.callbacks.EarlyStopping(monitor='val_accuracy', mode='max', patience=20, restore_best_weights=True)]\n",
    ").history\n",
    "\n",
    "\n",
    "plot_history(history, model.name)"
   ]
  },
  {
   "cell_type": "code",
   "execution_count": null,
   "metadata": {},
   "outputs": [],
   "source": [
    "for layer in base_model.layers[-12]:\n",
    "    layer.trainable = True\n",
    "\n",
    "model.compile(loss=tfk.losses.BinaryCrossentropy(), optimizer=tfk.optimizers.Adam(), metrics=['accuracy', Precision(name=\"precision\"), Recall(name=\"recall\")])\n",
    "\n",
    "\n",
    "history = model.fit(\n",
    "    x = preprocess_input(X_train * 255),\n",
    "    y = y_train,\n",
    "    batch_size = 32,\n",
    "    epochs = 200,\n",
    "    validation_data = (preprocess_input(X_val * 255), y_val),\n",
    "    callbacks = [tfk.callbacks.EarlyStopping(monitor='val_accuracy', mode='max', patience=20, restore_best_weights=True)]\n",
    ").history\n",
    "\n",
    "\n",
    "plot_history(history, model.name)"
   ]
  }
 ],
 "metadata": {
  "kernelspec": {
   "display_name": "Python 3",
   "language": "python",
   "name": "python3"
  },
  "language_info": {
   "codemirror_mode": {
    "name": "ipython",
    "version": 3
   },
   "file_extension": ".py",
   "mimetype": "text/x-python",
   "name": "python",
   "nbconvert_exporter": "python",
   "pygments_lexer": "ipython3",
   "version": "3.8.9"
  }
 },
 "nbformat": 4,
 "nbformat_minor": 2
}
